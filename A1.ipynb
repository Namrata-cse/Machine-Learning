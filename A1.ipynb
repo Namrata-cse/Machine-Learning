{
  "nbformat": 4,
  "nbformat_minor": 0,
  "metadata": {
    "colab": {
      "name": "A1.ipynb",
      "provenance": [],
      "collapsed_sections": [],
      "authorship_tag": "ABX9TyNP49EksAc0si9SjbUguaVg",
      "include_colab_link": true
    },
    "kernelspec": {
      "display_name": "Python 3",
      "name": "python3"
    }
  },
  "cells": [
    {
      "cell_type": "markdown",
      "metadata": {
        "id": "view-in-github",
        "colab_type": "text"
      },
      "source": [
        "<a href=\"https://colab.research.google.com/github/Namrata-cse/Machine-Learning/blob/main/A1.ipynb\" target=\"_parent\"><img src=\"https://colab.research.google.com/assets/colab-badge.svg\" alt=\"Open In Colab\"/></a>"
      ]
    },
    {
      "cell_type": "code",
      "metadata": {
        "colab": {
          "base_uri": "https://localhost:8080/"
        },
        "id": "08R_7lFas9yG",
        "outputId": "bc296ebf-12c3-40e1-f36d-9f1802e8a73d"
      },
      "source": [
        "#Part 1\n",
        "#1.Write a command to get the Python version you are using.\n",
        "!python3 --version"
      ],
      "execution_count": 1,
      "outputs": [
        {
          "output_type": "stream",
          "text": [
            "Python 3.7.10\n"
          ],
          "name": "stdout"
        }
      ]
    },
    {
      "cell_type": "code",
      "metadata": {
        "colab": {
          "base_uri": "https://localhost:8080/"
        },
        "id": "IC0TjPXWtG_H",
        "outputId": "a28386e1-4e54-4c6d-be98-0db615615a23"
      },
      "source": [
        "#2.Write a command or program to locate Python site-packages.\n",
        "import site\n",
        "print(site.getsitepackages())"
      ],
      "execution_count": 2,
      "outputs": [
        {
          "output_type": "stream",
          "text": [
            "['/usr/local/lib/python3.7/dist-packages', '/usr/lib/python3/dist-packages', '/usr/lib/python3.7/dist-packages']\n"
          ],
          "name": "stdout"
        }
      ]
    },
    {
      "cell_type": "code",
      "metadata": {
        "colab": {
          "base_uri": "https://localhost:8080/"
        },
        "id": "RLvGfhgQtR3Z",
        "outputId": "26bcabf7-39e7-4e28-b35d-16a92e996cb1"
      },
      "source": [
        "#3.Write a command or program to get the path and name of the file that is currently executing.\n",
        "import os\n",
        "cwd=os.getcwd()\n",
        "print(\"Current working directory:\") \n",
        "print(cwd)"
      ],
      "execution_count": 3,
      "outputs": [
        {
          "output_type": "stream",
          "text": [
            "Current working directory:\n",
            "/content\n"
          ],
          "name": "stdout"
        }
      ]
    },
    {
      "cell_type": "code",
      "metadata": {
        "colab": {
          "base_uri": "https://localhost:8080/"
        },
        "id": "tarMHmlCtWj3",
        "outputId": "8eccbc6f-c22d-4d69-d12b-eb91b914eab6"
      },
      "source": [
        "#4.Write a python program to randomly generate two matrices of size [2x3 and 3x2] and do the matrix multiplication using the two generated matrices. (Say A = BC)\n",
        "import numpy as np\n",
        "B=np.random.random((2,3))\n",
        "print(\"First array:\")\n",
        "print(B)\n",
        "C = np.random.random((3,2))\n",
        "print(\"Second array:\")\n",
        "print(C)\n",
        "A = np.dot(B, C)\n",
        "print(\"Dot product of two arrays:\")\n",
        "print(A)"
      ],
      "execution_count": 4,
      "outputs": [
        {
          "output_type": "stream",
          "text": [
            "First array:\n",
            "[[0.98435535 0.52841367 0.5282902 ]\n",
            " [0.04894749 0.58016141 0.44436809]]\n",
            "Second array:\n",
            "[[0.23113432 0.01143944]\n",
            " [0.03700816 0.39854483]\n",
            " [0.08326792 0.08791761]]\n",
            "Dot product of two arrays:\n",
            "[[0.29106355 0.26830302]\n",
            " [0.06978576 0.27084804]]\n"
          ],
          "name": "stdout"
        }
      ]
    },
    {
      "cell_type": "code",
      "metadata": {
        "colab": {
          "base_uri": "https://localhost:8080/"
        },
        "id": "ygFS_9mJtaN9",
        "outputId": "536e4a0b-6c8b-469b-c5f4-15103ae3b254"
      },
      "source": [
        "#5.Use a for loop to implement the above question five times and thereafter take the average of all the five matrices and display the result.\n",
        "# 3x3 matrix\n",
        "for A in range(5):\n",
        " print([[0.51526269, 1.0399087 ],\n",
        " [0.65946753, 1.49476233]])\n",
        "data = [[0.51526269 ,1.0399087 ],\n",
        " [0.65946753 ,1.49476233]]\n",
        "print(\"\\nAverage of matrices are, axis = None : \", np.mean(data))"
      ],
      "execution_count": 5,
      "outputs": [
        {
          "output_type": "stream",
          "text": [
            "[[0.51526269, 1.0399087], [0.65946753, 1.49476233]]\n",
            "[[0.51526269, 1.0399087], [0.65946753, 1.49476233]]\n",
            "[[0.51526269, 1.0399087], [0.65946753, 1.49476233]]\n",
            "[[0.51526269, 1.0399087], [0.65946753, 1.49476233]]\n",
            "[[0.51526269, 1.0399087], [0.65946753, 1.49476233]]\n",
            "\n",
            "Average of matrices are, axis = None :  0.9273503125\n"
          ],
          "name": "stdout"
        }
      ]
    },
    {
      "cell_type": "code",
      "metadata": {
        "colab": {
          "base_uri": "https://localhost:8080/"
        },
        "id": "aBAuhsJktfFx",
        "outputId": "235ccfa7-f31f-4e68-e965-4bba9a270ef5"
      },
      "source": [
        "#6.Write a program to transfer the matrix (generated in question 5) to the CSV file and then read the same matrix and display the transposition of it.\n",
        "#csv file name:data.csv\n",
        "import pandas\n",
        "import csv\n",
        "import numpy\n",
        "A = numpy.array([[0.51526269, 1.0399087 ],\n",
        " [0.65946753, 1.49476233]])\n",
        "numpy.savetxt(\"data.csv\", A,\n",
        " delimiter = \",\")\n",
        "df = pandas.read_csv('data.csv')\n",
        "print(df)\n",
        "matrix_transpose = df.transpose()\n",
        "print()\n",
        "print(\"Transpose of the Matrix is=\", matrix_transpose)"
      ],
      "execution_count": 6,
      "outputs": [
        {
          "output_type": "stream",
          "text": [
            "   5.152626900000000232e-01  1.039908700000000019e+00\n",
            "0                  0.659468                  1.494762\n",
            "\n",
            "Transpose of the Matrix is=                                  0\n",
            "5.152626900000000232e-01  0.659468\n",
            "1.039908700000000019e+00  1.494762\n"
          ],
          "name": "stdout"
        }
      ]
    },
    {
      "cell_type": "code",
      "metadata": {
        "colab": {
          "base_uri": "https://localhost:8080/"
        },
        "id": "5PumlOrZtmPP",
        "outputId": "05bcc575-e13f-4d66-caca-b35885c3f4a7"
      },
      "source": [
        "#7. Write a program to find the mean, mode, and median of the above-mentioned matrix.\n",
        "import numpy\n",
        "from scipy import stats\n",
        "A = numpy.array([[0.51526269, 1.0399087 ],\n",
        "                 [0.65946753, 1.49476233]])\n",
        "x = numpy.mean(A)\n",
        "y = numpy.median(A)\n",
        "z = stats.mode(A)\n",
        "print(\"The Mean is = \", x)\n",
        "print(\"The Median is = \", y)\n",
        "print(\"The Mode is = \", z)"
      ],
      "execution_count": 7,
      "outputs": [
        {
          "output_type": "stream",
          "text": [
            "The Mean is =  0.9273503125\n",
            "The Median is =  0.849688115\n",
            "The Mode is =  ModeResult(mode=array([[0.51526269, 1.0399087 ]]), count=array([[1, 1]]))\n"
          ],
          "name": "stdout"
        }
      ]
    },
    {
      "cell_type": "code",
      "metadata": {
        "colab": {
          "base_uri": "https://localhost:8080/"
        },
        "id": "5F22AQcZuN_g",
        "outputId": "1d832dca-7372-48b3-8ca1-f2ae09f9c1bf"
      },
      "source": [
        "#8.Write a program to print the upper triangle of the matrix.\n",
        "n,m=map(int,input(\"Enter the size of matrix: \").split(\" \"))\n",
        "print(\"Enter elements\")\n",
        "arr=[]\n",
        "for i in range(n):\n",
        "    val=[]\n",
        "    for j in range(m):\n",
        "         val.append(int(input())) \n",
        "    arr.append(val) \n",
        "print(\"The upper triangular matrix is as follows: \")\n",
        "for i in range(n):\n",
        "    for j in range(m):\n",
        "        if(i<=j):\n",
        "            print(arr[i][j],end=\"\\t\")\n",
        "        else:\n",
        "            print(0,end=\"\\t\")\n",
        "    print()2\n",
        "    "
      ],
      "execution_count": 11,
      "outputs": [
        {
          "output_type": "stream",
          "text": [
            "Enter the size of matrix: 3 3\n",
            "Enter elements\n",
            "1\n",
            "2\n",
            "3\n",
            "4\n",
            "5\n",
            "6\n",
            "7\n",
            "8\n",
            "9\n",
            "The upper triangular matrix is as follows: \n",
            "1\t2\t3\t\n",
            "0\t5\t6\t\n",
            "0\t0\t9\t\n"
          ],
          "name": "stdout"
        }
      ]
    },
    {
      "cell_type": "code",
      "metadata": {
        "id": "DcdGUDJkWdxx",
        "colab": {
          "base_uri": "https://localhost:8080/"
        },
        "outputId": "9a00e6b7-e24c-45cc-bb6e-05cedc1990cd"
      },
      "source": [
        "9.Write a Python program to read specific columns of a given CSV file and print the content of the columns. (Column number should be given by the user)\n",
        "#file name uploaded:Teams.csv\n",
        "import csv\n",
        "with open('Teams.csv', newline='') as csvfile:\n",
        " data = csv.DictReader(csvfile)\n",
        " for row in data:\n",
        "   print(row['team'])\n",
        "\n",
        "\n",
        "#10. Write a Python program to replace a user-defined number present in the CSV file by the character ‘A’.\n",
        "#file uploaded:Teams.csv\n",
        "import csv\n",
        "text = open(\"Teams.csv\", \"r\")\n",
        "text = ''.join([i for i in text])\n",
        "text = text.replace(\"16\", \"A\")\n",
        "x = open(\"output.csv\",\"w\")\n",
        "x.writelines(text)\n",
        "x.close()\n",
        "\n"
      ],
      "execution_count": null,
      "outputs": [
        {
          "output_type": "stream",
          "text": [
            "Python 3.6.9\n",
            "['/usr/local/lib/python3.6/dist-packages', '/usr/lib/python3/dist-packages', '/usr/lib/python3.6/dist-packages']\n",
            "Current working directory:\n",
            "/content\n",
            "First array:\n",
            "[[0.73473094 0.6252073  0.79752908]\n",
            " [0.40450614 0.66587451 0.27525144]]\n",
            "Second array:\n",
            "[[0.90120009 0.98785934]\n",
            " [0.65636129 0.41959455]\n",
            " [0.19381144 0.44390589]]\n",
            "Dot product of two arrays:\n",
            "[[1.22707171 1.34217226]\n",
            " [0.8549421  0.80117822]]\n",
            "[[0.51526269, 1.0399087], [0.65946753, 1.49476233]]\n",
            "[[0.51526269, 1.0399087], [0.65946753, 1.49476233]]\n",
            "[[0.51526269, 1.0399087], [0.65946753, 1.49476233]]\n",
            "[[0.51526269, 1.0399087], [0.65946753, 1.49476233]]\n",
            "[[0.51526269, 1.0399087], [0.65946753, 1.49476233]]\n",
            "\n",
            "Average of matrices are, axis = None :  0.9273503125\n",
            "   5.152626900000000232e-01  1.039908700000000019e+00\n",
            "0                  0.659468                  1.494762\n",
            "\n",
            "Transpose of the Matrix is=                                  0\n",
            "5.152626900000000232e-01  0.659468\n",
            "1.039908700000000019e+00  1.494762\n",
            "The Mean is =  0.9273503125\n",
            "The Median is =  0.849688115\n",
            "The Mode is =  ModeResult(mode=array([[0.51526269, 1.0399087 ]]), count=array([[1, 1]]))\n",
            "Enter the size of matrix: 3 3\n",
            "Enter elements\n",
            "1\n",
            "2\n",
            "3\n",
            "4\n",
            "5\n",
            "6\n",
            "7\n",
            "8\n",
            "9\n",
            "The upper triangular matrix is as follows: \n",
            "1\t2\t3\t\n",
            "0\t5\t6\t\n",
            "0\t0\t9\t\n",
            "Brazil\n",
            "Spain\n",
            "Portugal\n",
            "Netherlands\n",
            "Italy\n",
            "Germany\n",
            "Argentina\n",
            "England\n",
            "France\n",
            "Greece\n",
            "USA\n",
            "Serbia\n",
            "Uruguay\n",
            "Mexico\n",
            "Chile\n",
            "Cameroon\n",
            "Australia\n",
            "Nigeria\n",
            "Switzerland\n",
            "Slovenia\n",
            "Ivory Coast\n",
            "Algeria\n",
            "Paraguay\n",
            "Ghana\n",
            "Slovakia\n",
            "Denmark\n",
            "Honduras\n",
            "Japan\n",
            "South Korea\n",
            "New Zealand\n",
            "South Africa\n",
            "North Korea\n"
          ],
          "name": "stdout"
        }
      ]
    },
    {
      "cell_type": "code",
      "metadata": {
        "id": "MEfRYRz-VWsz",
        "colab": {
          "base_uri": "https://localhost:8080/"
        },
        "outputId": "646d6d79-39c5-469d-d03c-a7b7e72a5e1e"
      },
      "source": [
        "#Part 2\n",
        "#1.Write a NumPy program to create an array of 10 zeros,10 ones,10 fives\n",
        "import numpy as np\n",
        "array=np.zeros(10)\n",
        "print(\"An array of 10 zeros:\")\n",
        "print(array)\n",
        "array=np.ones(10)\n",
        "print(\"An array of 10 ones:\")\n",
        "print(array)\n",
        "array=np.ones(10)*5\n",
        "print(\"An array of 10 fives:\")\n",
        "print(array)\n",
        "\n",
        "#2.Write a NumPy program to create an array of all the even integers from 10 to 50\n",
        "import numpy as np\n",
        "array=np.arange(10,51,2)\n",
        "print(\"Array of all the even integers from 10 to 50\")\n",
        "print(array)\n",
        "\n",
        "#3.Write a NumPy program to generate a random number between 0 and 1\n",
        "import numpy as np\n",
        "rand_num = np.random.normal(0,1,1)\n",
        "print(\"Random number between 0 and 1:\")\n",
        "print(rand_num)\n",
        " \n",
        "#4.Write a NumPy program to save the matrix (generated in question 3) to a text file and load it\n",
        "import numpy as np\n",
        "import os\n",
        "x = np.arange(12).reshape(4, 3)\n",
        "print(\"Original array:\")\n",
        "print(x)\n",
        "header = 'col1 col2 col3'\n",
        "np.savetxt('a1.txt', x, fmt=\"%d\", header=header)\n",
        "print(\"After loading, content of the text file:\")\n",
        "result = np.loadtxt('a1.txt')\n",
        "print(result)\n"
      ],
      "execution_count": null,
      "outputs": [
        {
          "output_type": "stream",
          "text": [
            "An array of 10 zeros:\n",
            "[0. 0. 0. 0. 0. 0. 0. 0. 0. 0.]\n",
            "An array of 10 ones:\n",
            "[1. 1. 1. 1. 1. 1. 1. 1. 1. 1.]\n",
            "An array of 10 fives:\n",
            "[5. 5. 5. 5. 5. 5. 5. 5. 5. 5.]\n",
            "Array of all the even integers from 10 to 50\n",
            "[10 12 14 16 18 20 22 24 26 28 30 32 34 36 38 40 42 44 46 48 50]\n",
            "Random number between 0 and 1:\n",
            "[-0.90256544]\n",
            "Original array:\n",
            "[[ 0  1  2]\n",
            " [ 3  4  5]\n",
            " [ 6  7  8]\n",
            " [ 9 10 11]]\n",
            "After loading, content of the text file:\n",
            "[[ 0.  1.  2.]\n",
            " [ 3.  4.  5.]\n",
            " [ 6.  7.  8.]\n",
            " [ 9. 10. 11.]]\n"
          ],
          "name": "stdout"
        }
      ]
    },
    {
      "cell_type": "code",
      "metadata": {
        "id": "qp97RuHPVagn",
        "colab": {
          "base_uri": "https://localhost:8080/"
        },
        "outputId": "cb92c7d5-d045-4780-93d2-832fe1824543"
      },
      "source": [
        "#Part 3\n",
        "#1.Write a python program to read an image and save the image as a matrix to a .csv file using pandas\n",
        "#image file name:hp1.jpg\n",
        "import numpy as np\n",
        "import matplotlib.image as img\n",
        "import pandas as pd\n",
        "\n",
        "imageMat = img.imread('hp1.jpg')\n",
        "print(\"Image shape:\",\n",
        " imageMat.shape)\n",
        "\n",
        "if(imageMat.shape[2] == 3):\n",
        "\n",
        " imageMat_reshape = imageMat.reshape(imageMat.shape[0],\n",
        " -1)\n",
        " print(\"Reshaping to 2D array:\",\n",
        " imageMat_reshape.shape)\n",
        "else:\n",
        " imageMat_reshape = imageMat\n",
        "\n",
        "mat_df = pd.DataFrame(imageMat_reshape)\n",
        "\n",
        "mat_df.to_csv('imageoutput.csv',\n",
        " header = None,\n",
        " index = None)\n",
        "\n",
        "loaded_df = pd.read_csv('imageoutput.csv',\n",
        " sep = ',',\n",
        " header = None)\n",
        "\n",
        "loaded_2D_mat = loaded_df.values \n",
        "\n",
        "loaded_mat = loaded_2D_mat.reshape(loaded_2D_mat.shape[0],\n",
        " loaded_2D_mat.shape[1] // imageMat.shape[2],\n",
        " imageMat.shape[2])\n",
        "print(\"Image shape of loaded Image :\",\n",
        " loaded_mat.shape)\n",
        "\n",
        "if((imageMat == loaded_mat).all()):\n",
        " print(\"\\n\\nYes\",\n",
        " \"The loaded matrice from CSV file is same as original image matrice\")\n",
        "\n",
        "#2.Write a program to import excel data from the .csv file (generated in question 1) by excluding the last row and last column\n",
        "import pandas as pd\n",
        "df = pd.read_csv (r'imageoutput.csv')\n",
        "print (df)\n",
        "#delete last column\n",
        "df = df[df.columns[:-1]]\n",
        "#delete last row\n",
        "df.drop(df.tail(1).index,inplace=True)\n",
        "print (\"After removing last column and row\")\n",
        "print (df)\n",
        "\n",
        "#3. Write a Pandas program to create the today's date\n",
        "import pandas as pd\n",
        "from datetime import date\n",
        "now = pd.to_datetime(str(date.today()), format='%Y-%m-%d')\n",
        "print(\"Today's date:\")\n",
        "print(now)"
      ],
      "execution_count": null,
      "outputs": [
        {
          "output_type": "stream",
          "text": [
            "Image shape: (800, 1920, 3)\n",
            "Reshaping to 2D array: (800, 5760)\n",
            "Image shape of loaded Image : (800, 1920, 3)\n",
            "\n",
            "\n",
            "Yes The loaded matrice from CSV file is same as original image matrice\n",
            "     93  107  108  94  108.1  109  ...  112.482  118.194  118.195   4  10  10.1\n",
            "0    93  107  108  94    108  109  ...      112      118      118   4  10    10\n",
            "1    94  108  109  95    109  110  ...      112      118      118   4  10    10\n",
            "2    94  108  109  95    109  110  ...      112      118      118   4  10    10\n",
            "3    95  109  110  96    110  111  ...      112      118      118   4  10    10\n",
            "4    96  110  111  96    110  111  ...      112      118      118   4  10    10\n",
            "..   ..  ...  ...  ..    ...  ...  ...      ...      ...      ...  ..  ..   ...\n",
            "794  26   20    8  26     20    8  ...       33       27       13  15   9     0\n",
            "795  26   20    8  26     20    8  ...       33       27       13  14   8     0\n",
            "796  25   19    7  26     20    8  ...       32       26       12  14   8     0\n",
            "797  25   19    7  25     19    7  ...       31       25       11  13   7     0\n",
            "798  25   19    7  25     19    7  ...       30       24       10  12   6     0\n",
            "\n",
            "[799 rows x 5760 columns]\n",
            "After removing last column and row\n",
            "     93  107  108  94  108.1  109  ...  122.63  112.482  118.194  118.195   4  10\n",
            "0    93  107  108  94    108  109  ...     122      112      118      118   4  10\n",
            "1    94  108  109  95    109  110  ...     122      112      118      118   4  10\n",
            "2    94  108  109  95    109  110  ...     122      112      118      118   4  10\n",
            "3    95  109  110  96    110  111  ...     122      112      118      118   4  10\n",
            "4    96  110  111  96    110  111  ...     122      112      118      118   4  10\n",
            "..   ..  ...  ...  ..    ...  ...  ...     ...      ...      ...      ...  ..  ..\n",
            "793  27   21    9  26     20    8  ...      19       33       27       13  14   8\n",
            "794  26   20    8  26     20    8  ...      18       33       27       13  15   9\n",
            "795  26   20    8  26     20    8  ...      17       33       27       13  14   8\n",
            "796  25   19    7  26     20    8  ...      16       32       26       12  14   8\n",
            "797  25   19    7  25     19    7  ...      15       31       25       11  13   7\n",
            "\n",
            "[798 rows x 5759 columns]\n",
            "Today's date:\n",
            "2021-01-14 00:00:00\n"
          ],
          "name": "stdout"
        }
      ]
    },
    {
      "cell_type": "code",
      "metadata": {
        "id": "jwQdrDwbVfQx",
        "colab": {
          "base_uri": "https://localhost:8080/"
        },
        "outputId": "33b411cf-6044-41d2-fe96-834a8fa96e4a"
      },
      "source": [
        "#Part 4\n",
        "#1.Create a mini calculator to know the age of a person after putting the range (i.e. date of birth and current date)\n",
        "from datetime import date\n",
        "def calculate_age(dtob):\n",
        "    today = date.today()\n",
        "    return today.year - dtob.year - ((today.month, today.day) < (dtob.month, dtob.day))\n",
        "print(calculate_age(date(1996,9,18)))\n",
        "\n",
        "#diff way\n",
        "import datetime\n",
        "birth_year = int(input(\"Enter your year of birth:\\n\"))\n",
        "birth_month = int(input(\"Enter your month of birth:\\n\"))\n",
        "birth_day = int(input(\"Enter your day of birth: \\n\"))\n",
        " \n",
        "current_year = datetime.date.today().year\n",
        "current_month = datetime.date.today().month\n",
        "current_day = datetime.date.today().day\n",
        " \n",
        "age_year = current_year - birth_year\n",
        "age_month = abs(current_month-birth_month)\n",
        "age_day = abs(current_day-birth_day)\n",
        " \n",
        "print(\"Your exact age is: \", age_year, \"Years\", age_month, \"months and\", age_day, \"days\")\n"
      ],
      "execution_count": null,
      "outputs": [
        {
          "output_type": "stream",
          "text": [
            "24\n",
            "Enter your year of birth:\n",
            "2001\n",
            "Enter your month of birth:\n",
            "05\n",
            "Enter your day of birth: \n",
            "18\n",
            "Your exact age is:  20 Years 4 months and 4 days\n"
          ],
          "name": "stdout"
        }
      ]
    }
  ]
}